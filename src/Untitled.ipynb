{
 "cells": [
  {
   "cell_type": "code",
   "execution_count": 2,
   "id": "6a77bc11-f872-4f25-92b4-e5b180db8cec",
   "metadata": {},
   "outputs": [],
   "source": [
    "from scipy import optimize\n",
    "import numpy as np\n",
    "import sys"
   ]
  },
  {
   "cell_type": "code",
   "execution_count": 22,
   "id": "a6ac5078-156e-4935-a534-421ecf856bde",
   "metadata": {},
   "outputs": [
    {
     "name": "stdout",
     "output_type": "stream",
     "text": [
      "True\n"
     ]
    },
    {
     "name": "stderr",
     "output_type": "stream",
     "text": [
      "/var/folders/jg/7hc7yjgn1jxf7t4jbvm7g9640000gw/T/ipykernel_8728/4176792776.py:2: RuntimeWarning: overflow encountered in matmul\n",
      "  x = x@x\n"
     ]
    }
   ],
   "source": [
    "\n",
    "x = np.full((2,2), sys.float_info.max)\n",
    "x = x@x\n",
    "print(~np.isfinite(x).any())"
   ]
  },
  {
   "cell_type": "code",
   "execution_count": null,
   "id": "655ef07b-db1e-4063-9b4f-37d6ec61346d",
   "metadata": {},
   "outputs": [],
   "source": []
  }
 ],
 "metadata": {
  "kernelspec": {
   "display_name": "Pcore_env",
   "language": "python",
   "name": "pcore_env"
  },
  "language_info": {
   "codemirror_mode": {
    "name": "ipython",
    "version": 3
   },
   "file_extension": ".py",
   "mimetype": "text/x-python",
   "name": "python",
   "nbconvert_exporter": "python",
   "pygments_lexer": "ipython3",
   "version": "3.10.10"
  }
 },
 "nbformat": 4,
 "nbformat_minor": 5
}
